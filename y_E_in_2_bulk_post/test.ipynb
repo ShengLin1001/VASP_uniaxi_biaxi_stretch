{
 "cells": [
  {
   "cell_type": "code",
   "execution_count": 5,
   "metadata": {},
   "outputs": [
    {
     "name": "stdout",
     "output_type": "stream",
     "text": [
      "<_io.TextIOWrapper name='./y_dir/0.997/CONTCAR' mode='r' encoding='UTF-8'>\n",
      "system_name                             \n",
      "\n",
      "   2.85042300000000     \n",
      "\n",
      "     1.0000000000000000    0.0000000000000000    0.0000000000000000\n",
      "\n",
      "    -0.5000000000000000    0.8660254037844387    0.0000000000000000\n",
      "\n",
      "     0.0000000000000000    0.0000000000000000    5.0719132195754666\n",
      "\n",
      "   Au\n",
      "\n",
      "     6\n",
      "\n",
      "Direct\n",
      "\n",
      "  0.0000000000000000  0.0000000000000000  0.0000000000000000\n",
      "\n",
      "  0.3333333333333357  0.6666666666666643  0.1666666666666643\n",
      "\n",
      "  0.0000000000000000  0.0000000000000000  0.3333333333333357\n",
      "\n",
      "  0.3333333333333357  0.6666666666666643  0.5000000000000000\n",
      "\n",
      "  0.0000000000000000  0.0000000000000000  0.6666666666666643\n",
      "\n",
      "  0.3333333333333357  0.6666666666666643  0.8333333333333357\n",
      "\n",
      " \n",
      "\n",
      "  0.00000000E+00  0.00000000E+00  0.00000000E+00\n",
      "\n",
      "  0.00000000E+00  0.00000000E+00  0.00000000E+00\n",
      "\n",
      "  0.00000000E+00  0.00000000E+00  0.00000000E+00\n",
      "\n",
      "  0.00000000E+00  0.00000000E+00  0.00000000E+00\n",
      "\n",
      "  0.00000000E+00  0.00000000E+00  0.00000000E+00\n",
      "\n",
      "  0.00000000E+00  0.00000000E+00  0.00000000E+00\n",
      "\n"
     ]
    }
   ],
   "source": [
    "from re import findall, search, IGNORECASE\n",
    "from os import listdir\n",
    "from numpy import sqrt, array\n",
    "from inspect import getargvalues, currentframe, stack\n",
    "\n",
    "\n",
    "with open('./y_dir/0.997/CONTCAR', 'r') as file:\n",
    "    print(file)\n",
    "    #print(file.readlines())\n",
    "    for line in file:\n",
    "        print(line)"
   ]
  }
 ],
 "metadata": {
  "kernelspec": {
   "display_name": "mydft",
   "language": "python",
   "name": "python3"
  },
  "language_info": {
   "codemirror_mode": {
    "name": "ipython",
    "version": 3
   },
   "file_extension": ".py",
   "mimetype": "text/x-python",
   "name": "python",
   "nbconvert_exporter": "python",
   "pygments_lexer": "ipython3",
   "version": "3.9.0"
  }
 },
 "nbformat": 4,
 "nbformat_minor": 2
}
