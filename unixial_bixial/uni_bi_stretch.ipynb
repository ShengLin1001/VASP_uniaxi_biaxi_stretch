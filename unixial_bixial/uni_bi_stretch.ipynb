{
 "cells": [
  {
   "cell_type": "code",
   "execution_count": 11,
   "id": "48c06ef0-a6eb-4e59-aacc-c196bba1fde2",
   "metadata": {},
   "outputs": [],
   "source": [
    "from numpy import sqrt\n",
    "from numpy import array, dot\n",
    "from os    import makedirs, path\n",
    "\n",
    "from ase import Atoms\n",
    "from ase.build import bulk, fcc111, surface\n",
    "from ase.io import write\n",
    "from ase.visualize import view\n"
   ]
  },
  {
   "cell_type": "code",
   "execution_count": 12,
   "id": "55929ef9",
   "metadata": {},
   "outputs": [],
   "source": [
    "# move atoms\n",
    "def move_atoms(self, translate_matrix = array([0.1, 0.1, 0.0])):\n",
    "    my_cell = array(self.get_cell())\n",
    "    self.positions[:,:] += dot(translate_matrix, my_cell)\n",
    "    self.wrap()\n",
    "    print('complete move atoms')\n",
    "    \n",
    "# stretch unit cell\n",
    "def uni_stretch(self, stretch_factor = [0.997, 0.998, 0.999, 1.000, 1.001, 1.002, 1.003], base_filename = 'POSCAR_uniaxial', special_filename = '', my_path = './dump/'):\n",
    "    self_copy = self.copy()\n",
    "    my_cell = array(self_copy.get_cell())\n",
    "    for i in stretch_factor:\n",
    "        temp = my_cell.copy()\n",
    "        temp[:2,0] = my_cell[:2,0] * i\n",
    "        self_copy.set_cell(temp, scale_atoms=True)\n",
    "        formatted_i = f'{i:.3f}'\n",
    "        filename = f'{my_path}{base_filename}_{special_filename}_{formatted_i}'\n",
    "        makedirs(path.dirname(filename), exist_ok=True)\n",
    "        write(filename, self_copy, format='vasp', direct=True, vasp5=True)\n",
    "    print('complete uniaxial stretch')\n",
    "\n",
    "def bi_stretch(self, stretch_factor = [0.997, 0.998, 0.999, 1.000, 1.001, 1.002, 1.003], base_filename = 'POSCAR_biaxial', special_filename = '', my_path = './dump/'):\n",
    "    self_copy = self.copy()\n",
    "    my_cell = array(self_copy.get_cell())\n",
    "    for i in stretch_factor:\n",
    "        temp = my_cell.copy()\n",
    "        temp[:2,:2] = my_cell[:2,:2] * i\n",
    "        self_copy.set_cell(temp, scale_atoms=True)\n",
    "        formatted_i = f'{i:.3f}'\n",
    "        filename = f'{my_path}{base_filename}_{special_filename}_{formatted_i}'\n",
    "        makedirs(path.dirname(filename), exist_ok=True)\n",
    "        write(filename, self_copy, format='vasp', direct=True, vasp5=True)\n",
    "    print('complete biaxial stretch')\n",
    "\n",
    "# generate the POSCAR\n",
    "def generate_hcp_film(symbol = 'Au', structure = 'hcp', my_a = 2.95 , my_covera = sqrt(8.0/3.0), num_layers = 12, my_vacuum = 20, slice_plane = (0,0,1), my_periodic = True ):\n",
    "    # Create an bulk hcp structure for gold\n",
    "    bulk_hcp = bulk('Au', 'hcp', a = my_a, covera = my_covera)\n",
    "    # slice, Set the number of layers to 12\n",
    "    num_rep_z = int(num_layers/len(bulk_hcp.numbers))\n",
    "    slab_hcp = surface(bulk_hcp, slice_plane , num_rep_z, vacuum = my_vacuum, tol=1e-6, periodic=my_periodic)\n",
    "    slab_hcp.wrap()\n",
    "    print('complete generate hcp film')\n",
    "    return slab_hcp\n",
    "\n",
    "def generate_fcc_film(symbol = 'Au', structure = 'fcc', a_fcc = 2.95*sqrt(2.0), num_layers = 12, my_vacuum = 20, slice_plane = (1,1,1), my_periodic = True ):\n",
    "    bulk_fcc = bulk('Au', 'fcc', a=a_fcc)\n",
    "    # slice, Set the number of layers to 12\n",
    "    num_rep_z = int(num_layers/len(bulk_fcc.numbers))\n",
    "    slab_fcc = surface(bulk_fcc, slice_plane, num_rep_z, vacuum=my_vacuum, tol=1e-6, periodic=my_periodic)\n",
    "    slab_fcc.wrap()\n",
    "    print('complete generate fcc film')\n",
    "    return slab_fcc\n"
   ]
  },
  {
   "cell_type": "markdown",
   "id": "2bdc8576",
   "metadata": {},
   "source": [
    "## Define the lattice parameters for hcp structure"
   ]
  },
  {
   "cell_type": "code",
   "execution_count": 13,
   "id": "498d6189-1834-465e-85bc-263f8b9a5945",
   "metadata": {},
   "outputs": [
    {
     "name": "stdout",
     "output_type": "stream",
     "text": [
      "complete generate hcp film\n",
      "complete move atoms\n",
      "complete uniaxial stretch\n",
      "complete biaxial stretch\n"
     ]
    }
   ],
   "source": [
    "# Define the lattice parameters for hcp and fcc structures\n",
    "a_hcp = 2.95  # lattice constant\n",
    "num_layers = 12\n",
    "\n",
    "gold_hcp = generate_hcp_film('Au', 'hcp', a_hcp, num_layers = num_layers, my_vacuum = 20, slice_plane = (0,0,1), my_periodic = True)\n",
    "\n",
    "# move atoms along any special directions in scale units\n",
    "move_atoms(gold_hcp)\n",
    "\n",
    "# uniaxial and biaxial stretch\n",
    "uni_stretch(gold_hcp, special_filename='gold_hcp', my_path = './dump/hcp/')\n",
    "bi_stretch(gold_hcp, special_filename='gold_hcp', my_path = './dump/hcp/') \n",
    "\n"
   ]
  },
  {
   "cell_type": "markdown",
   "id": "4361e1a5",
   "metadata": {},
   "source": [
    "## Define the lattice parameters for fcc structure"
   ]
  },
  {
   "cell_type": "code",
   "execution_count": 14,
   "id": "903dcdd3-8c0d-4d63-a026-0e63a7b01d16",
   "metadata": {},
   "outputs": [
    {
     "name": "stdout",
     "output_type": "stream",
     "text": [
      "complete generate fcc film\n",
      "complete move atoms\n",
      "complete uniaxial stretch\n",
      "complete biaxial stretch\n"
     ]
    }
   ],
   "source": [
    "a_fcc = 2.95*sqrt(2.0)\n",
    "\n",
    "gold_fcc = generate_fcc_film('Au', 'fcc', a_fcc=a_fcc, num_layers = num_layers, my_vacuum = 20, slice_plane = (1,1,1), my_periodic = True )\n",
    "\n",
    "# move atoms along any special directions in scale units\n",
    "move_atoms(gold_fcc)\n",
    "\n",
    "# uniaxial and biaxial stretch\n",
    "uni_stretch(gold_fcc, special_filename='gold_fcc', my_path = './dump/fcc/')\n",
    "bi_stretch(gold_fcc, special_filename='gold_fcc', my_path = './dump/fcc/') \n"
   ]
  },
  {
   "cell_type": "markdown",
   "id": "cbbbdac8",
   "metadata": {},
   "source": []
  },
  {
   "cell_type": "markdown",
   "id": "0dc5889d",
   "metadata": {},
   "source": []
  },
  {
   "cell_type": "code",
   "execution_count": null,
   "id": "0cd659de-749b-4cb9-9a8a-4861cf6aa8ca",
   "metadata": {},
   "outputs": [],
   "source": []
  }
 ],
 "metadata": {
  "kernelspec": {
   "display_name": "Python 3 (ipykernel)",
   "language": "python",
   "name": "python3"
  },
  "language_info": {
   "codemirror_mode": {
    "name": "ipython",
    "version": 3
   },
   "file_extension": ".py",
   "mimetype": "text/x-python",
   "name": "python",
   "nbconvert_exporter": "python",
   "pygments_lexer": "ipython3",
   "version": "3.9.0"
  }
 },
 "nbformat": 4,
 "nbformat_minor": 5
}
