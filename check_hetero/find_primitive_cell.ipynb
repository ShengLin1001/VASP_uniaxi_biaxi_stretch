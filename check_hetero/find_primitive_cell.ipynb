{
 "cells": [
  {
   "cell_type": "code",
   "execution_count": 131,
   "metadata": {},
   "outputs": [],
   "source": [
    "from numpy import array, ndarray, cross\n",
    "from ase import Atoms\n",
    "from ase.io.vasp import read_vasp, write_vasp\n",
    "from ase.visualize import view\n",
    "import spglib\n",
    "\n",
    "def my_find_prim(atoms: Atoms = None, move_list = [0, 0, 0], check_direction_tag = True, scale_atoms = False) -> Atoms:\n",
    "    \"\"\"\n",
    "    find primitive cell using spglib\\n\n",
    "    Convert to a format suitable for spglib\n",
    "    \"\"\"\n",
    "    \n",
    "    lattice = array(atoms.get_cell())\n",
    "    points = array(atoms.get_scaled_positions())\n",
    "    numbers = array(atoms.get_atomic_numbers())\n",
    "    pbc = array(atoms.get_pbc())\n",
    "    cell = (lattice, points, numbers)\n",
    "\n",
    "    primitive_cell = spglib.standardize_cell(cell, to_primitive=1, no_idealize=1)\n",
    "    # Convert the spglib output back to an ASE Atoms object\n",
    "    primitive_atoms = Atoms(numbers = primitive_cell[2],\n",
    "                            scaled_positions = primitive_cell[1],\n",
    "                            cell = primitive_cell[0],\n",
    "                            pbc=pbc)\n",
    "    if check_direction_tag:\n",
    "        primitive_atoms = check_direction(primitive_atoms, scale_atoms)\n",
    "    primitive_atoms = move_atoms(primitive_atoms, move_list)\n",
    "    return primitive_atoms\n",
    "\n",
    "# move atoms\n",
    "def move_atoms(atoms: Atoms = None,\n",
    "               translate_matrix: ndarray = array([0.1, 0.1, 0.0])) -> Atoms :\n",
    "    scaled = atoms.get_scaled_positions()\n",
    "    scaled += translate_matrix\n",
    "    atoms.set_scaled_positions(scaled)\n",
    "    atoms.wrap()\n",
    "    return atoms\n",
    "\n",
    "# check the z-direction of cell is positive\n",
    "def check_direction(atoms: Atoms = None, scale_atoms = False) -> Atoms:\n",
    "    lattice = array(atoms.get_cell())\n",
    "    \n",
    "    points = array(atoms.get_positions())\n",
    "    #print(points)\n",
    "    if lattice[2,2] < 0:\n",
    "        lattice *= -1\n",
    "    else:\n",
    "        lattice = lattice\n",
    "    atoms.set_cell(lattice, scale_atoms= scale_atoms)\n",
    "    #print(atoms.get_positions())\n",
    "    atoms.set_positions(points)\n",
    "    #print(atoms.get_positions())\n",
    "    return atoms\n",
    "\n",
    "# calculate the surface area in xy plane\n",
    "def cal_area(atoms: Atoms = None) -> float:\n",
    "    lattice = array(atoms.get_cell())\n",
    "    a = lattice[0,:]\n",
    "    b = lattice[1,:]\n",
    "    area = abs(cross(a, b)[2])\n",
    "    return area\n"
   ]
  },
  {
   "cell_type": "code",
   "execution_count": 132,
   "metadata": {},
   "outputs": [
    {
     "name": "stdout",
     "output_type": "stream",
     "text": [
      "Atoms(symbols='Si4O8', pbc=True, cell=[[3.699366331099999, 3.699366331099999, 0.0], [3.699366331099999, -3.699366331099999, -0.0], [-0.0, -0.0, 50.0]])\n",
      "Atoms(symbols='Au6', pbc=True, cell=[[2.8597, 0.0, 0.0], [-1.42985, 2.4765699999999997, 0.0], [0.0, 0.0, 50.0]])\n",
      "Atoms(symbols='Si4O8Au24', pbc=True, cell=[[7.482389649379969, 0.0, 0.0], [10.953369321592444, 3.7217961908062374, 0.0], [1.8e-15, 3e-16, 30.04854108049012]])\n",
      "27.370622503352532\n",
      "7.082247228999999\n",
      "27.847929295190387\n"
     ]
    }
   ],
   "source": [
    "str1 = read_vasp('POSCAR1')\n",
    "str2 = read_vasp('POSCAR2')\n",
    "#str2 *= [2, 2, 1]\n",
    "#print(str1)\n",
    "#print(str2)\n",
    "prim1 = my_find_prim(str1, [0.001, 0.001, 0.01])\n",
    "prim2 = my_find_prim(str2, [0.001, 0.001, 0.01])\n",
    "\n",
    "print(prim1)\n",
    "print(prim2)\n",
    "\n",
    "write_vasp('./POSCAR1_prim', prim1, label = 'SiO', direct= False, vasp5= True)\n",
    "write_vasp('./POSCAR2_prim', prim2, label = 'Au', direct= False, vasp5= True)\n",
    "\n",
    "super1 = read_vasp('SUPERLATTICE_0001_18.4_0036.vasp')\n",
    "print(super1)\n",
    "\n",
    "print(cal_area(prim1))\n",
    "print(cal_area(prim2))\n",
    "print(cal_area(super1))"
   ]
  }
 ],
 "metadata": {
  "kernelspec": {
   "display_name": "mydft",
   "language": "python",
   "name": "python3"
  },
  "language_info": {
   "codemirror_mode": {
    "name": "ipython",
    "version": 3
   },
   "file_extension": ".py",
   "mimetype": "text/x-python",
   "name": "python",
   "nbconvert_exporter": "python",
   "pygments_lexer": "ipython3",
   "version": "3.9.0"
  }
 },
 "nbformat": 4,
 "nbformat_minor": 2
}
